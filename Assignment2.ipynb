{
  "nbformat": 4,
  "nbformat_minor": 0,
  "metadata": {
    "colab": {
      "provenance": []
    },
    "kernelspec": {
      "name": "python3",
      "display_name": "Python 3"
    },
    "language_info": {
      "name": "python"
    }
  },
  "cells": [
    {
      "cell_type": "code",
      "execution_count": null,
      "metadata": {
        "colab": {
          "base_uri": "https://localhost:8080/"
        },
        "id": "pm3wJhcsxkij",
        "outputId": "66bf1ee7-84c5-4079-fa85-21fd3f1c5c7f"
      },
      "outputs": [
        {
          "output_type": "stream",
          "name": "stdout",
          "text": [
            "Get:1 http://security.ubuntu.com/ubuntu jammy-security InRelease [129 kB]\n",
            "Get:2 https://cloud.r-project.org/bin/linux/ubuntu jammy-cran40/ InRelease [3,632 B]\n",
            "Get:3 https://developer.download.nvidia.com/compute/cuda/repos/ubuntu2204/x86_64  InRelease [1,581 B]\n",
            "Hit:4 http://archive.ubuntu.com/ubuntu jammy InRelease\n",
            "Get:5 http://archive.ubuntu.com/ubuntu jammy-updates InRelease [128 kB]\n",
            "Get:6 https://r2u.stat.illinois.edu/ubuntu jammy InRelease [6,555 B]\n",
            "Hit:7 https://ppa.launchpadcontent.net/deadsnakes/ppa/ubuntu jammy InRelease\n",
            "Get:8 http://archive.ubuntu.com/ubuntu jammy-backports InRelease [127 kB]\n",
            "Hit:9 https://ppa.launchpadcontent.net/graphics-drivers/ppa/ubuntu jammy InRelease\n",
            "Hit:10 https://ppa.launchpadcontent.net/ubuntugis/ppa/ubuntu jammy InRelease\n",
            "Get:11 https://developer.download.nvidia.com/compute/cuda/repos/ubuntu2204/x86_64  Packages [1,721 kB]\n",
            "Get:12 https://r2u.stat.illinois.edu/ubuntu jammy/main all Packages [8,994 kB]\n",
            "Get:13 http://security.ubuntu.com/ubuntu jammy-security/main amd64 Packages [2,953 kB]\n",
            "Get:14 http://security.ubuntu.com/ubuntu jammy-security/universe amd64 Packages [1,246 kB]\n",
            "Get:15 https://r2u.stat.illinois.edu/ubuntu jammy/main amd64 Packages [2,736 kB]\n",
            "Get:16 http://archive.ubuntu.com/ubuntu jammy-updates/universe amd64 Packages [1,553 kB]\n",
            "Get:17 http://archive.ubuntu.com/ubuntu jammy-updates/main amd64 Packages [3,264 kB]\n",
            "Fetched 22.9 MB in 10s (2,196 kB/s)\n",
            "Reading package lists... Done\n",
            "W: Skipping acquire of configured file 'main/source/Sources' as repository 'https://r2u.stat.illinois.edu/ubuntu jammy InRelease' does not seem to provide it (sources.list entry misspelt?)\n",
            "Reading package lists... Done\n",
            "Building dependency tree... Done\n",
            "Reading state information... Done\n",
            "The following additional packages will be installed:\n",
            "  fonts-dejavu-core fonts-dejavu-extra libatk-wrapper-java\n",
            "  libatk-wrapper-java-jni libxt-dev libxtst6 libxxf86dga1 openjdk-11-jre\n",
            "  x11-utils\n",
            "Suggested packages:\n",
            "  libxt-doc openjdk-11-demo openjdk-11-source visualvm mesa-utils\n",
            "The following NEW packages will be installed:\n",
            "  fonts-dejavu-core fonts-dejavu-extra libatk-wrapper-java\n",
            "  libatk-wrapper-java-jni libxt-dev libxtst6 libxxf86dga1 openjdk-11-jdk\n",
            "  openjdk-11-jre x11-utils\n",
            "0 upgraded, 10 newly installed, 0 to remove and 37 not upgraded.\n",
            "Need to get 6,920 kB of archives.\n",
            "After this operation, 16.9 MB of additional disk space will be used.\n",
            "Get:1 http://archive.ubuntu.com/ubuntu jammy/main amd64 fonts-dejavu-core all 2.37-2build1 [1,041 kB]\n",
            "Get:2 http://archive.ubuntu.com/ubuntu jammy/main amd64 fonts-dejavu-extra all 2.37-2build1 [2,041 kB]\n",
            "Get:3 http://archive.ubuntu.com/ubuntu jammy/main amd64 libxtst6 amd64 2:1.2.3-1build4 [13.4 kB]\n",
            "Get:4 http://archive.ubuntu.com/ubuntu jammy/main amd64 libxxf86dga1 amd64 2:1.1.5-0ubuntu3 [12.6 kB]\n",
            "Get:5 http://archive.ubuntu.com/ubuntu jammy/main amd64 x11-utils amd64 7.7+5build2 [206 kB]\n",
            "Get:6 http://archive.ubuntu.com/ubuntu jammy/main amd64 libatk-wrapper-java all 0.38.0-5build1 [53.1 kB]\n",
            "Get:7 http://archive.ubuntu.com/ubuntu jammy/main amd64 libatk-wrapper-java-jni amd64 0.38.0-5build1 [49.0 kB]\n",
            "Get:8 http://archive.ubuntu.com/ubuntu jammy/main amd64 libxt-dev amd64 1:1.2.1-1 [396 kB]\n",
            "Get:9 http://archive.ubuntu.com/ubuntu jammy-updates/main amd64 openjdk-11-jre amd64 11.0.27+6~us1-0ubuntu1~22.04 [214 kB]\n",
            "Get:10 http://archive.ubuntu.com/ubuntu jammy-updates/main amd64 openjdk-11-jdk amd64 11.0.27+6~us1-0ubuntu1~22.04 [2,895 kB]\n",
            "Fetched 6,920 kB in 1s (7,038 kB/s)\n",
            "Selecting previously unselected package fonts-dejavu-core.\n",
            "(Reading database ... 126109 files and directories currently installed.)\n",
            "Preparing to unpack .../0-fonts-dejavu-core_2.37-2build1_all.deb ...\n",
            "Unpacking fonts-dejavu-core (2.37-2build1) ...\n",
            "Selecting previously unselected package fonts-dejavu-extra.\n",
            "Preparing to unpack .../1-fonts-dejavu-extra_2.37-2build1_all.deb ...\n",
            "Unpacking fonts-dejavu-extra (2.37-2build1) ...\n",
            "Selecting previously unselected package libxtst6:amd64.\n",
            "Preparing to unpack .../2-libxtst6_2%3a1.2.3-1build4_amd64.deb ...\n",
            "Unpacking libxtst6:amd64 (2:1.2.3-1build4) ...\n",
            "Selecting previously unselected package libxxf86dga1:amd64.\n",
            "Preparing to unpack .../3-libxxf86dga1_2%3a1.1.5-0ubuntu3_amd64.deb ...\n",
            "Unpacking libxxf86dga1:amd64 (2:1.1.5-0ubuntu3) ...\n",
            "Selecting previously unselected package x11-utils.\n",
            "Preparing to unpack .../4-x11-utils_7.7+5build2_amd64.deb ...\n",
            "Unpacking x11-utils (7.7+5build2) ...\n",
            "Selecting previously unselected package libatk-wrapper-java.\n",
            "Preparing to unpack .../5-libatk-wrapper-java_0.38.0-5build1_all.deb ...\n",
            "Unpacking libatk-wrapper-java (0.38.0-5build1) ...\n",
            "Selecting previously unselected package libatk-wrapper-java-jni:amd64.\n",
            "Preparing to unpack .../6-libatk-wrapper-java-jni_0.38.0-5build1_amd64.deb ...\n",
            "Unpacking libatk-wrapper-java-jni:amd64 (0.38.0-5build1) ...\n",
            "Selecting previously unselected package libxt-dev:amd64.\n",
            "Preparing to unpack .../7-libxt-dev_1%3a1.2.1-1_amd64.deb ...\n",
            "Unpacking libxt-dev:amd64 (1:1.2.1-1) ...\n",
            "Selecting previously unselected package openjdk-11-jre:amd64.\n",
            "Preparing to unpack .../8-openjdk-11-jre_11.0.27+6~us1-0ubuntu1~22.04_amd64.deb ...\n",
            "Unpacking openjdk-11-jre:amd64 (11.0.27+6~us1-0ubuntu1~22.04) ...\n",
            "Selecting previously unselected package openjdk-11-jdk:amd64.\n",
            "Preparing to unpack .../9-openjdk-11-jdk_11.0.27+6~us1-0ubuntu1~22.04_amd64.deb ...\n",
            "Unpacking openjdk-11-jdk:amd64 (11.0.27+6~us1-0ubuntu1~22.04) ...\n",
            "Setting up libxtst6:amd64 (2:1.2.3-1build4) ...\n",
            "Setting up libxxf86dga1:amd64 (2:1.1.5-0ubuntu3) ...\n",
            "Setting up openjdk-11-jre:amd64 (11.0.27+6~us1-0ubuntu1~22.04) ...\n",
            "Setting up libxt-dev:amd64 (1:1.2.1-1) ...\n",
            "Setting up fonts-dejavu-core (2.37-2build1) ...\n",
            "Setting up fonts-dejavu-extra (2.37-2build1) ...\n",
            "Setting up x11-utils (7.7+5build2) ...\n",
            "Setting up openjdk-11-jdk:amd64 (11.0.27+6~us1-0ubuntu1~22.04) ...\n",
            "update-alternatives: using /usr/lib/jvm/java-11-openjdk-amd64/bin/jconsole to provide /usr/bin/jconsole (jconsole) in auto mode\n",
            "Setting up libatk-wrapper-java (0.38.0-5build1) ...\n",
            "Setting up libatk-wrapper-java-jni:amd64 (0.38.0-5build1) ...\n",
            "Processing triggers for fontconfig (2.13.1-4.2ubuntu5) ...\n",
            "Processing triggers for hicolor-icon-theme (0.17-2) ...\n",
            "Processing triggers for libc-bin (2.35-0ubuntu3.8) ...\n",
            "/sbin/ldconfig.real: /usr/local/lib/libtbbmalloc_proxy.so.2 is not a symbolic link\n",
            "\n",
            "/sbin/ldconfig.real: /usr/local/lib/libtcm.so.1 is not a symbolic link\n",
            "\n",
            "/sbin/ldconfig.real: /usr/local/lib/libtbbmalloc.so.2 is not a symbolic link\n",
            "\n",
            "/sbin/ldconfig.real: /usr/local/lib/libtbbbind.so.3 is not a symbolic link\n",
            "\n",
            "/sbin/ldconfig.real: /usr/local/lib/libtcm_debug.so.1 is not a symbolic link\n",
            "\n",
            "/sbin/ldconfig.real: /usr/local/lib/libumf.so.0 is not a symbolic link\n",
            "\n",
            "/sbin/ldconfig.real: /usr/local/lib/libur_adapter_level_zero.so.0 is not a symbolic link\n",
            "\n",
            "/sbin/ldconfig.real: /usr/local/lib/libhwloc.so.15 is not a symbolic link\n",
            "\n",
            "/sbin/ldconfig.real: /usr/local/lib/libur_loader.so.0 is not a symbolic link\n",
            "\n",
            "/sbin/ldconfig.real: /usr/local/lib/libur_adapter_opencl.so.0 is not a symbolic link\n",
            "\n",
            "/sbin/ldconfig.real: /usr/local/lib/libtbbbind_2_0.so.3 is not a symbolic link\n",
            "\n",
            "/sbin/ldconfig.real: /usr/local/lib/libtbbbind_2_5.so.3 is not a symbolic link\n",
            "\n",
            "/sbin/ldconfig.real: /usr/local/lib/libtbb.so.12 is not a symbolic link\n",
            "\n",
            "Processing triggers for man-db (2.10.2-1) ...\n",
            "Processing triggers for mailcap (3.70+nmu1ubuntu1) ...\n",
            "Requirement already satisfied: pyspark in /usr/local/lib/python3.11/dist-packages (3.5.1)\n",
            "Requirement already satisfied: py4j==0.10.9.7 in /usr/local/lib/python3.11/dist-packages (from pyspark) (0.10.9.7)\n"
          ]
        }
      ],
      "source": [
        "!apt-get update\n",
        "!apt-get install openjdk-11-jdk -y\n",
        "!pip install pyspark"
      ]
    },
    {
      "cell_type": "code",
      "source": [
        "from pyspark.sql import SparkSession\n",
        "spark = SparkSession.builder \\\n",
        "    .appName(\"Nasa Web Logs Analysis\") \\\n",
        "    .getOrCreate()\n",
        "\n",
        "# Use spark.version (lowercase v) to access the Spark version\n",
        "print(f\"Spark Version : {spark.version}\")"
      ],
      "metadata": {
        "colab": {
          "base_uri": "https://localhost:8080/"
        },
        "id": "8DZPc7BQyI4G",
        "outputId": "add61967-4e00-475c-bd56-d7dd21f543bf"
      },
      "execution_count": null,
      "outputs": [
        {
          "output_type": "stream",
          "name": "stdout",
          "text": [
            "Spark Version : 3.5.1\n"
          ]
        }
      ]
    },
    {
      "cell_type": "code",
      "source": [
        "from google.colab import files\n",
        "uploaded = files.upload()\n",
        "\n",
        "log_file_path = list(uploaded.keys())[0]\n",
        "\n",
        "raw_data = spark.read.text(f\"/content/{log_file_path}\")\n",
        "raw_data.show(truncate=False)"
      ],
      "metadata": {
        "colab": {
          "base_uri": "https://localhost:8080/",
          "height": 90
        },
        "id": "kP-dGmeSy5Zg",
        "outputId": "bd126025-5106-4be8-b1aa-f6dd0307791d"
      },
      "execution_count": null,
      "outputs": [
        {
          "data": {
            "text/html": [
              "\n",
              "     <input type=\"file\" id=\"files-91d3e4e2-0644-41e9-a3ec-90a09e100eda\" name=\"files[]\" multiple disabled\n",
              "        style=\"border:none\" />\n",
              "     <output id=\"result-91d3e4e2-0644-41e9-a3ec-90a09e100eda\">\n",
              "      Upload widget is only available when the cell has been executed in the\n",
              "      current browser session. Please rerun this cell to enable.\n",
              "      </output>\n",
              "      <script>// Copyright 2017 Google LLC\n",
              "//\n",
              "// Licensed under the Apache License, Version 2.0 (the \"License\");\n",
              "// you may not use this file except in compliance with the License.\n",
              "// You may obtain a copy of the License at\n",
              "//\n",
              "//      http://www.apache.org/licenses/LICENSE-2.0\n",
              "//\n",
              "// Unless required by applicable law or agreed to in writing, software\n",
              "// distributed under the License is distributed on an \"AS IS\" BASIS,\n",
              "// WITHOUT WARRANTIES OR CONDITIONS OF ANY KIND, either express or implied.\n",
              "// See the License for the specific language governing permissions and\n",
              "// limitations under the License.\n",
              "\n",
              "/**\n",
              " * @fileoverview Helpers for google.colab Python module.\n",
              " */\n",
              "(function(scope) {\n",
              "function span(text, styleAttributes = {}) {\n",
              "  const element = document.createElement('span');\n",
              "  element.textContent = text;\n",
              "  for (const key of Object.keys(styleAttributes)) {\n",
              "    element.style[key] = styleAttributes[key];\n",
              "  }\n",
              "  return element;\n",
              "}\n",
              "\n",
              "// Max number of bytes which will be uploaded at a time.\n",
              "const MAX_PAYLOAD_SIZE = 100 * 1024;\n",
              "\n",
              "function _uploadFiles(inputId, outputId) {\n",
              "  const steps = uploadFilesStep(inputId, outputId);\n",
              "  const outputElement = document.getElementById(outputId);\n",
              "  // Cache steps on the outputElement to make it available for the next call\n",
              "  // to uploadFilesContinue from Python.\n",
              "  outputElement.steps = steps;\n",
              "\n",
              "  return _uploadFilesContinue(outputId);\n",
              "}\n",
              "\n",
              "// This is roughly an async generator (not supported in the browser yet),\n",
              "// where there are multiple asynchronous steps and the Python side is going\n",
              "// to poll for completion of each step.\n",
              "// This uses a Promise to block the python side on completion of each step,\n",
              "// then passes the result of the previous step as the input to the next step.\n",
              "function _uploadFilesContinue(outputId) {\n",
              "  const outputElement = document.getElementById(outputId);\n",
              "  const steps = outputElement.steps;\n",
              "\n",
              "  const next = steps.next(outputElement.lastPromiseValue);\n",
              "  return Promise.resolve(next.value.promise).then((value) => {\n",
              "    // Cache the last promise value to make it available to the next\n",
              "    // step of the generator.\n",
              "    outputElement.lastPromiseValue = value;\n",
              "    return next.value.response;\n",
              "  });\n",
              "}\n",
              "\n",
              "/**\n",
              " * Generator function which is called between each async step of the upload\n",
              " * process.\n",
              " * @param {string} inputId Element ID of the input file picker element.\n",
              " * @param {string} outputId Element ID of the output display.\n",
              " * @return {!Iterable<!Object>} Iterable of next steps.\n",
              " */\n",
              "function* uploadFilesStep(inputId, outputId) {\n",
              "  const inputElement = document.getElementById(inputId);\n",
              "  inputElement.disabled = false;\n",
              "\n",
              "  const outputElement = document.getElementById(outputId);\n",
              "  outputElement.innerHTML = '';\n",
              "\n",
              "  const pickedPromise = new Promise((resolve) => {\n",
              "    inputElement.addEventListener('change', (e) => {\n",
              "      resolve(e.target.files);\n",
              "    });\n",
              "  });\n",
              "\n",
              "  const cancel = document.createElement('button');\n",
              "  inputElement.parentElement.appendChild(cancel);\n",
              "  cancel.textContent = 'Cancel upload';\n",
              "  const cancelPromise = new Promise((resolve) => {\n",
              "    cancel.onclick = () => {\n",
              "      resolve(null);\n",
              "    };\n",
              "  });\n",
              "\n",
              "  // Wait for the user to pick the files.\n",
              "  const files = yield {\n",
              "    promise: Promise.race([pickedPromise, cancelPromise]),\n",
              "    response: {\n",
              "      action: 'starting',\n",
              "    }\n",
              "  };\n",
              "\n",
              "  cancel.remove();\n",
              "\n",
              "  // Disable the input element since further picks are not allowed.\n",
              "  inputElement.disabled = true;\n",
              "\n",
              "  if (!files) {\n",
              "    return {\n",
              "      response: {\n",
              "        action: 'complete',\n",
              "      }\n",
              "    };\n",
              "  }\n",
              "\n",
              "  for (const file of files) {\n",
              "    const li = document.createElement('li');\n",
              "    li.append(span(file.name, {fontWeight: 'bold'}));\n",
              "    li.append(span(\n",
              "        `(${file.type || 'n/a'}) - ${file.size} bytes, ` +\n",
              "        `last modified: ${\n",
              "            file.lastModifiedDate ? file.lastModifiedDate.toLocaleDateString() :\n",
              "                                    'n/a'} - `));\n",
              "    const percent = span('0% done');\n",
              "    li.appendChild(percent);\n",
              "\n",
              "    outputElement.appendChild(li);\n",
              "\n",
              "    const fileDataPromise = new Promise((resolve) => {\n",
              "      const reader = new FileReader();\n",
              "      reader.onload = (e) => {\n",
              "        resolve(e.target.result);\n",
              "      };\n",
              "      reader.readAsArrayBuffer(file);\n",
              "    });\n",
              "    // Wait for the data to be ready.\n",
              "    let fileData = yield {\n",
              "      promise: fileDataPromise,\n",
              "      response: {\n",
              "        action: 'continue',\n",
              "      }\n",
              "    };\n",
              "\n",
              "    // Use a chunked sending to avoid message size limits. See b/62115660.\n",
              "    let position = 0;\n",
              "    do {\n",
              "      const length = Math.min(fileData.byteLength - position, MAX_PAYLOAD_SIZE);\n",
              "      const chunk = new Uint8Array(fileData, position, length);\n",
              "      position += length;\n",
              "\n",
              "      const base64 = btoa(String.fromCharCode.apply(null, chunk));\n",
              "      yield {\n",
              "        response: {\n",
              "          action: 'append',\n",
              "          file: file.name,\n",
              "          data: base64,\n",
              "        },\n",
              "      };\n",
              "\n",
              "      let percentDone = fileData.byteLength === 0 ?\n",
              "          100 :\n",
              "          Math.round((position / fileData.byteLength) * 100);\n",
              "      percent.textContent = `${percentDone}% done`;\n",
              "\n",
              "    } while (position < fileData.byteLength);\n",
              "  }\n",
              "\n",
              "  // All done.\n",
              "  yield {\n",
              "    response: {\n",
              "      action: 'complete',\n",
              "    }\n",
              "  };\n",
              "}\n",
              "\n",
              "scope.google = scope.google || {};\n",
              "scope.google.colab = scope.google.colab || {};\n",
              "scope.google.colab._files = {\n",
              "  _uploadFiles,\n",
              "  _uploadFilesContinue,\n",
              "};\n",
              "})(self);\n",
              "</script> "
            ],
            "text/plain": [
              "<IPython.core.display.HTML object>"
            ]
          },
          "metadata": {},
          "output_type": "display_data"
        }
      ]
    },
    {
      "cell_type": "code",
      "source": [
        "from pyspark.sql.functions import regexp_extract\n",
        "\n",
        "# Regular expressions for parsing\n",
        "host_pattern = r'^(\\S+)'  # Extracts host\n",
        "timestamp_pattern = r'\\[(.*?)\\]'  # Extracts timestamp\n",
        "method_endpoint_pattern = r'\"(GET|POST|HEAD|PUT|DELETE)\\s(\\S+)\\s'  # Extracts HTTP method and endpoint\n",
        "status_pattern = r'(\\d{3})'  # Extracts status code\n",
        "content_size_pattern = r'(\\d+)$'  # Extracts content size\n",
        "\n",
        "# Parse data into structured columns\n",
        "logs_df = raw_data.withColumn(\"host\", regexp_extract(\"value\", host_pattern, 1)) \\\n",
        "    .withColumn(\"timestamp\", regexp_extract(\"value\", timestamp_pattern, 1)) \\\n",
        "    .withColumn(\"endpoint\", regexp_extract(\"value\", method_endpoint_pattern, 2)) \\\n",
        "    .withColumn(\"status\", regexp_extract(\"value\", status_pattern, 1).cast(\"int\")) \\\n",
        "    .withColumn(\"content_size\", regexp_extract(\"value\", content_size_pattern, 1).cast(\"int\"))\n",
        "\n",
        "logs_df.show(5)"
      ],
      "metadata": {
        "colab": {
          "base_uri": "https://localhost:8080/"
        },
        "id": "u8sdikxAzqze",
        "outputId": "a05c4a89-20d0-4f73-9ecb-2cd22955d31e"
      },
      "execution_count": null,
      "outputs": [
        {
          "output_type": "stream",
          "name": "stdout",
          "text": [
            "+--------------------+--------------------+--------------------+--------------------+------+------------+\n",
            "|               value|                host|           timestamp|            endpoint|status|content_size|\n",
            "+--------------------+--------------------+--------------------+--------------------+------+------------+\n",
            "|199.72.81.55 - - ...|        199.72.81.55|01/Jul/1995:00:00...|    /history/apollo/|   199|        6245|\n",
            "|unicomp6.unicomp....|unicomp6.unicomp.net|01/Jul/1995:00:00...| /shuttle/countdown/|   199|        3985|\n",
            "|199.120.110.21 - ...|      199.120.110.21|01/Jul/1995:00:00...|/shuttle/missions...|   199|        4085|\n",
            "|burger.letters.co...|  burger.letters.com|01/Jul/1995:00:00...|/shuttle/countdow...|   199|           0|\n",
            "|199.120.110.21 - ...|      199.120.110.21|01/Jul/1995:00:00...|/shuttle/missions...|   199|        4179|\n",
            "+--------------------+--------------------+--------------------+--------------------+------+------------+\n",
            "only showing top 5 rows\n",
            "\n"
          ]
        }
      ]
    },
    {
      "cell_type": "code",
      "source": [
        "from pyspark.sql.functions import regexp_extract\n",
        "#Regular expressions for parsing\n",
        "host_pattern=r'^(\\S+)' # Extracts host\n",
        "timestamp_pattern = r'\\[(.*?)\\]' # Extracts timestamp\n",
        "method_endpoint_pattern = r'\\\" (GET|POST|HEAD|PUT|DELETE)\\s(\\S+)\\s' # Extracts HTTP method and endpoint\n",
        "status_pattern= r'(\\d{3})' # Extracts status code\n",
        "content_size_pattern = r'(\\d+)$' # Extracts content size\n",
        "#Parse data into structured columns\n",
        "logs_df = raw_data.withColumn(\"host\", regexp_extract(\"value\", host_pattern, 1))\\\n",
        ".withColumn(\"timestamp\", regexp_extract(\"value\", timestamp_pattern, 1)) \\\n",
        ".withColumn(\"endpoint\", regexp_extract(\"value\", method_endpoint_pattern, 2)) \\\n",
        ".withColumn(\"status\", regexp_extract(\"value\", status_pattern, 1).cast(\"int\")) \\\n",
        ".withColumn(\"content_size\", regexp_extract(\"value\", content_size_pattern, 1).cast(\"int\"))\n",
        "logs_df.show(5)\n"
      ],
      "metadata": {
        "colab": {
          "base_uri": "https://localhost:8080/"
        },
        "id": "PV69awer7x-V",
        "outputId": "67a16eb4-6f9e-4e66-e63d-9ecf25b13cda"
      },
      "execution_count": null,
      "outputs": [
        {
          "output_type": "stream",
          "name": "stdout",
          "text": [
            "+--------------------+--------------------+--------------------+--------+------+------------+\n",
            "|               value|                host|           timestamp|endpoint|status|content_size|\n",
            "+--------------------+--------------------+--------------------+--------+------+------------+\n",
            "|199.72.81.55 - - ...|        199.72.81.55|01/Jul/1995:00:00...|        |   199|        6245|\n",
            "|unicomp6.unicomp....|unicomp6.unicomp.net|01/Jul/1995:00:00...|        |   199|        3985|\n",
            "|199.120.110.21 - ...|      199.120.110.21|01/Jul/1995:00:00...|        |   199|        4085|\n",
            "|burger.letters.co...|  burger.letters.com|01/Jul/1995:00:00...|        |   199|           0|\n",
            "|199.120.110.21 - ...|      199.120.110.21|01/Jul/1995:00:00...|        |   199|        4179|\n",
            "+--------------------+--------------------+--------------------+--------+------+------------+\n",
            "only showing top 5 rows\n",
            "\n"
          ]
        }
      ]
    },
    {
      "cell_type": "code",
      "source": [
        "#a\n",
        "logs_df.selectExpr(\n",
        "    \"AVG(content_size) as avg_content_size\",\n",
        "    \"MAX(content_size) as max_content_size\",\n",
        "    \"MIN(content_size) as min_content_size\"\n",
        ").show()"
      ],
      "metadata": {
        "colab": {
          "base_uri": "https://localhost:8080/"
        },
        "id": "dUfmB2M98Hje",
        "outputId": "326d2447-b317-403a-ba1c-72c2979a463e"
      },
      "execution_count": null,
      "outputs": [
        {
          "output_type": "stream",
          "name": "stdout",
          "text": [
            "+------------------+----------------+----------------+\n",
            "|  avg_content_size|max_content_size|min_content_size|\n",
            "+------------------+----------------+----------------+\n",
            "|20671.058516934936|         6823936|               0|\n",
            "+------------------+----------------+----------------+\n",
            "\n"
          ]
        }
      ]
    },
    {
      "cell_type": "code",
      "source": [
        "#b\n",
        "logs_df.groupBy(\"status\").count().orderBy(\"status\").show()"
      ],
      "metadata": {
        "colab": {
          "base_uri": "https://localhost:8080/"
        },
        "id": "RBiH1j708uTd",
        "outputId": "02576016-a896-4d5d-a000-d939005812d1"
      },
      "execution_count": null,
      "outputs": [
        {
          "output_type": "stream",
          "name": "stdout",
          "text": [
            "+------+-----+\n",
            "|status|count|\n",
            "+------+-----+\n",
            "|  NULL|    1|\n",
            "|     0| 2065|\n",
            "|     1| 3863|\n",
            "|     2| 3874|\n",
            "|     3| 2795|\n",
            "|     4| 2905|\n",
            "|     5| 3074|\n",
            "|     6| 2996|\n",
            "|     7| 2636|\n",
            "|     8| 2155|\n",
            "|     9| 1785|\n",
            "|    10| 2976|\n",
            "|    11| 2280|\n",
            "|    12| 2422|\n",
            "|    13| 2684|\n",
            "|    14| 2235|\n",
            "|    15| 2892|\n",
            "|    16| 2306|\n",
            "|    17| 2190|\n",
            "|    18| 1738|\n",
            "+------+-----+\n",
            "only showing top 20 rows\n",
            "\n"
          ]
        }
      ]
    },
    {
      "cell_type": "code",
      "source": [
        "#C\n",
        "from pyspark.sql.functions import desc\n",
        "logs_df.groupBy(\"host\").count().orderBy(desc(\"count\")).limit(10).show()"
      ],
      "metadata": {
        "colab": {
          "base_uri": "https://localhost:8080/"
        },
        "id": "n_TVK0fL9rHa",
        "outputId": "609e31dc-9e38-4dc8-a904-a47d3cdd02b2"
      },
      "execution_count": null,
      "outputs": [
        {
          "output_type": "stream",
          "name": "stdout",
          "text": [
            "+--------------------+-----+\n",
            "|                host|count|\n",
            "+--------------------+-----+\n",
            "|piweba3y.prodigy.com|17572|\n",
            "|piweba4y.prodigy.com|11591|\n",
            "|piweba1y.prodigy.com| 9868|\n",
            "|  alyssa.prodigy.com| 7852|\n",
            "| siltb10.orl.mmc.com| 7573|\n",
            "|piweba2y.prodigy.com| 5922|\n",
            "|  edams.ksc.nasa.gov| 5434|\n",
            "|        163.206.89.4| 4906|\n",
            "|         news.ti.com| 4863|\n",
            "|disarray.demon.co.uk| 4353|\n",
            "+--------------------+-----+\n",
            "\n"
          ]
        }
      ]
    },
    {
      "cell_type": "code",
      "source": [
        "#d\n",
        "logs_df.groupBy(\"endpoint\").count().orderBy(desc(\"count\")).limit(20).show()"
      ],
      "metadata": {
        "colab": {
          "base_uri": "https://localhost:8080/"
        },
        "id": "r9sgmMT194_3",
        "outputId": "c1d4e051-1a15-4705-d05a-a6a8bd699760"
      },
      "execution_count": null,
      "outputs": [
        {
          "output_type": "stream",
          "name": "stdout",
          "text": [
            "+--------+-------+\n",
            "|endpoint|  count|\n",
            "+--------+-------+\n",
            "|        |1891715|\n",
            "+--------+-------+\n",
            "\n"
          ]
        }
      ]
    },
    {
      "cell_type": "code",
      "source": [
        "#e\n",
        "logs_df.filter(\"status >= 400\").groupBy(\"endpoint\").count().orderBy(\"count\", ascending=False).limit(10).show()"
      ],
      "metadata": {
        "colab": {
          "base_uri": "https://localhost:8080/"
        },
        "id": "GXf5fJNZ-IgP",
        "outputId": "816c6529-73e4-40d0-8437-e896704c89f2"
      },
      "execution_count": null,
      "outputs": [
        {
          "output_type": "stream",
          "name": "stdout",
          "text": [
            "+--------+-----+\n",
            "|endpoint|count|\n",
            "+--------+-----+\n",
            "|        |30652|\n",
            "+--------+-----+\n",
            "\n"
          ]
        }
      ]
    },
    {
      "cell_type": "code",
      "source": [
        "#f\n",
        "unique_hosts = logs_df.select(\"host\").distinct().count()\n",
        "print(f\"Unique hosts: {unique_hosts}\")"
      ],
      "metadata": {
        "colab": {
          "base_uri": "https://localhost:8080/"
        },
        "id": "-YTWWeSl-fF6",
        "outputId": "46cddcf4-5daa-4831-ccd6-64d6acdfbf20"
      },
      "execution_count": null,
      "outputs": [
        {
          "output_type": "stream",
          "name": "stdout",
          "text": [
            "Unique hosts: 81983\n"
          ]
        }
      ]
    },
    {
      "cell_type": "code",
      "source": [
        "#B\n",
        "total_requests = logs_df.count()\n",
        "avg_requests_per_host = total_requests / unique_hosts\n",
        "print (f\"Average requests per host: {avg_requests_per_host}\")"
      ],
      "metadata": {
        "colab": {
          "base_uri": "https://localhost:8080/"
        },
        "id": "1qxS5imD-6Rq",
        "outputId": "4f4c73df-d736-4185-9396-bb56b870667f"
      },
      "execution_count": null,
      "outputs": [
        {
          "output_type": "stream",
          "name": "stdout",
          "text": [
            "Average requests per host: 23.074478855372455\n"
          ]
        }
      ]
    },
    {
      "cell_type": "code",
      "source": [
        "#h\n",
        "logs_df.filter(\"status == 404\").groupBy(\"endpoint\").count().orderBy(desc(\"count\")).limit(20).show()"
      ],
      "metadata": {
        "colab": {
          "base_uri": "https://localhost:8080/"
        },
        "id": "hcye9f34_HEh",
        "outputId": "13211f0e-484c-4f67-80cc-7fbdb9e03aa9"
      },
      "execution_count": null,
      "outputs": [
        {
          "output_type": "stream",
          "name": "stdout",
          "text": [
            "+--------------------+-----+\n",
            "|            endpoint|count|\n",
            "+--------------------+-----+\n",
            "|/images/ksclogo-m...|    5|\n",
            "|/images/USA-logos...|    5|\n",
            "|/images/NASA-logo...|    5|\n",
            "|/images/MOSAIC-lo...|    5|\n",
            "|/images/WORLD-log...|    5|\n",
            "|                   /|    3|\n",
            "|/shuttle/countdow...|    3|\n",
            "|/history/apollo/i...|    3|\n",
            "|/images/KSC-logos...|    3|\n",
            "| /shuttle/countdown/|    3|\n",
            "|           /ksc.html|    2|\n",
            "|/shuttle/countdow...|    2|\n",
            "|/history/apollo/i...|    2|\n",
            "|/shuttle/missions...|    2|\n",
            "|/history/apollo/i...|    1|\n",
            "|/facilities/lc39a...|    1|\n",
            "|/shuttle/countdow...|    1|\n",
            "|/history/apollo/a...|    1|\n",
            "|/images/whatsnew.gif|    1|\n",
            "|/images/kscmap-ti...|    1|\n",
            "+--------------------+-----+\n",
            "\n"
          ]
        }
      ]
    },
    {
      "cell_type": "code",
      "source": [
        "#i\n",
        "logs_df.filter(\"status==404\").groupBy(\"host\").count().orderBy(desc(\"count\")).limit(20).show()"
      ],
      "metadata": {
        "colab": {
          "base_uri": "https://localhost:8080/"
        },
        "id": "srYGNJGZACbE",
        "outputId": "23b25acd-b213-4292-9359-ba2de45301df"
      },
      "execution_count": null,
      "outputs": [
        {
          "output_type": "stream",
          "name": "stdout",
          "text": [
            "+--------------------+-----+\n",
            "|                host|count|\n",
            "+--------------------+-----+\n",
            "|gespie4044.erin.u...|   35|\n",
            "| ppp404.st.rim.or.jp|   12|\n",
            "|i404ae1a.cfa.ilst...|   11|\n",
            "| slip4040.sirius.com|    8|\n",
            "|sunm4048aq.sph.um...|    7|\n",
            "|ppp404.po.iijnet....|    7|\n",
            "| slip4041.sirius.com|    6|\n",
            "|meb404a-1.anesth....|    5|\n",
            "|  grail404.nando.net|    1|\n",
            "| slip4044.sirius.com|    1|\n",
            "+--------------------+-----+\n",
            "\n"
          ]
        }
      ]
    },
    {
      "cell_type": "code",
      "source": [
        "#1\n",
        "from pyspark.sql.functions import hour\n",
        "import matplotlib.pyplot as plt\n",
        "hourly_404 = logs_df.filter(\"status==404\").withColumn (\"hour\", hour(\"timestamp\"))\\\n",
        "                  .groupBy(\"hour\").count().toPandas()\n",
        "\n",
        "hourly_404.plot(x=\"hour\", y=\"count\", kind=\"bar\", title=\"Hourly 404 Errors\")\n",
        "plt.show()"
      ],
      "metadata": {
        "colab": {
          "base_uri": "https://localhost:8080/",
          "height": 484
        },
        "id": "HMGk-1G9ATlK",
        "outputId": "a0f1a85c-8f74-4a8e-a6d5-3465af85fc96"
      },
      "execution_count": null,
      "outputs": [
        {
          "output_type": "display_data",
          "data": {
            "text/plain": [
              "<Figure size 640x480 with 1 Axes>"
            ],
            "image/png": "[encoded data removed]"
          },
          "metadata": {}
        }
      ]
    },
    {
      "cell_type": "code",
      "source": [
        "#j\n",
        "from pyspark.sql.functions import to_timestamp\n",
        "# Set legacy parser policy if needed\n",
        "spark.conf.set(\"spark.sql.legacy.timeParserPolicy\", \"LEGACY\")\n",
        "# Correct timestamp parsing\n",
        "correct_format = \"dd/MMM/yyyy:HH:mm:ss Z\"\n",
        "daily_404 = logs_df.filter(\"status == 404\") \\\n",
        ".withColumn(\"date\", to_timestamp(\"timestamp\", correct_format)) \\\n",
        ".groupBy(\"date\").count().toPandas()\n",
        "import matplotlib.pyplot as plt\n",
        "# Plot the result\n",
        "daily_404.plot(x=\"date\", y=\"count\", kind=\"line\", title=\"404 Errors Per Day\")\n",
        "plt.show()\n",
        "import matplotlib.pyplot as plt\n",
        "daily_404.plot(x=\"date\", y=\"count\", kind=\"line\", title=\"464 Errors Per Day\")\n",
        "plt.show()"
      ],
      "metadata": {
        "colab": {
          "base_uri": "https://localhost:8080/",
          "height": 917
        },
        "id": "2QBGS7B6BWJQ",
        "outputId": "457bb416-e4ea-40b6-e8b1-7c49e85ed4fc"
      },
      "execution_count": null,
      "outputs": [
        {
          "output_type": "display_data",
          "data": {
            "text/plain": [
              "<Figure size 640x480 with 1 Axes>"
            ],
            "image/png": "[encoded data removed]"
          },
          "metadata": {}
        },
        {
          "output_type": "display_data",
          "data": {
            "text/plain": [
              "<Figure size 640x480 with 1 Axes>"
            ],
            "image/png": "[encoded data removed]"
          },
          "metadata": {}
        }
      ]
    },
    {
      "cell_type": "code",
      "source": [
        "from pyspark.sql.functions import to_date, desc# Import to date and desc\n",
        "logs_df.filter(\"status == 404\") \\\n",
        ".withColumn(\"date\", to_date(\"timestamp\", \"dd/MMM/yyyy\")) \\\n",
        ".groupBy(\"date\").count() \\\n",
        ".orderBy(desc(\"count\")) \\\n",
        ".limit(3) \\\n",
        ".show()"
      ],
      "metadata": {
        "colab": {
          "base_uri": "https://localhost:8080/"
        },
        "id": "Nv0bUgkgBjns",
        "outputId": "ad908cd7-a1ad-4986-cc4e-0673c40c1897"
      },
      "execution_count": null,
      "outputs": [
        {
          "output_type": "stream",
          "name": "stdout",
          "text": [
            "+----------+-----+\n",
            "|      date|count|\n",
            "+----------+-----+\n",
            "|1995-07-15|   36|\n",
            "|1995-07-21|   11|\n",
            "|1995-07-27|    8|\n",
            "+----------+-----+\n",
            "\n"
          ]
        }
      ]
    }
  ]
}