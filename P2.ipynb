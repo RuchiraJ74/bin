{
 "cells": [
  {
   "cell_type": "markdown",
   "id": "eb057031",
   "metadata": {},
   "source": [
    "# 🧪 Practical 2\n",
    "### Perform Exploratory Data Analysis on Web Logs using Apache Spark\n",
    "Dataset: [NASA Logs](http://ita.ee.lbl.gov/html/contrib/NASA-HTTP.html)"
   ]
  },
  {
   "cell_type": "code",
   "execution_count": 1,
   "id": "8c5af591-009a-485b-b57e-8bcdc99bf5fa",
   "metadata": {},
   "outputs": [
    {
     "name": "stdout",
     "output_type": "stream",
     "text": [
      "Requirement already satisfied: pyspark in c:\\users\\administrator\\appdata\\local\\programs\\python\\python313\\lib\\site-packages (4.0.0)\n",
      "Requirement already satisfied: py4j==0.10.9.9 in c:\\users\\administrator\\appdata\\local\\programs\\python\\python313\\lib\\site-packages (from pyspark) (0.10.9.9)\n"
     ]
    }
   ],
   "source": [
    "!pip install pyspark"
   ]
  },
  {
   "cell_type": "code",
   "execution_count": null,
   "id": "668e07d8",
   "metadata": {},
   "outputs": [],
   "source": [
    "# Setup Spark Session\n",
    "from pyspark.sql import SparkSession\n",
    "spark = SparkSession.builder.appName(\"NASA Web Logs Analysis\").getOrCreate()\n"
   ]
  },
  {
   "cell_type": "code",
   "execution_count": null,
   "id": "d8064886",
   "metadata": {},
   "outputs": [],
   "source": [
    "# Load the log file (Replace with local filename if needed)\n",
    "log_file_path = \"access_log.txt\"\n",
    "raw_data = spark.read.text(log_file_path)\n",
    "raw_data.show(5, truncate=False)\n"
   ]
  },
  {
   "cell_type": "code",
   "execution_count": null,
   "id": "e7c0fadd",
   "metadata": {},
   "outputs": [],
   "source": [
    "# Extract useful columns using regex\n",
    "from pyspark.sql.functions import regexp_extract, to_date, col, count, desc, hour\n",
    "host_pattern = r'^(\\S+)'  \n",
    "timestamp_pattern = r'\\[(.*?)\\]'  \n",
    "method_endpoint_pattern = r'\\\"(GET|POST|HEAD|PUT|DELETE)\\s(\\S+)\\s'  \n",
    "status_pattern = r'(\\d{3})'  \n",
    "content_size_pattern = r'(\\d+)$'  \n",
    "\n",
    "logs_df = raw_data.withColumn(\"host\", regexp_extract(\"value\", host_pattern, 1)) \\\n",
    "    .withColumn(\"timestamp\", regexp_extract(\"value\", timestamp_pattern, 1)) \\\n",
    "    .withColumn(\"endpoint\", regexp_extract(\"value\", method_endpoint_pattern, 2)) \\\n",
    "    .withColumn(\"status\", regexp_extract(\"value\", status_pattern, 1).cast(\"int\")) \\\n",
    "    .withColumn(\"content_size\", regexp_extract(\"value\", content_size_pattern, 1).cast(\"int\"))\n",
    "logs_df.show(5)\n"
   ]
  },
  {
   "cell_type": "markdown",
   "id": "7e3761e1",
   "metadata": {},
   "source": [
    "### a. Compute statistics regarding the average, minimum, and maximum content sizes"
   ]
  },
  {
   "cell_type": "code",
   "execution_count": null,
   "id": "3c415c2d",
   "metadata": {},
   "outputs": [],
   "source": [
    "logs_df.select('content_size').summary().show()"
   ]
  },
  {
   "cell_type": "markdown",
   "id": "03112dd9",
   "metadata": {},
   "source": [
    "### b. Perform HTTP status code analysis"
   ]
  },
  {
   "cell_type": "code",
   "execution_count": null,
   "id": "b5a0ab0b",
   "metadata": {},
   "outputs": [],
   "source": [
    "logs_df.groupBy('status').count().orderBy('status').show()"
   ]
  },
  {
   "cell_type": "markdown",
   "id": "e94bc56c",
   "metadata": {},
   "source": [
    "### c. Top 10 most frequent hosts"
   ]
  },
  {
   "cell_type": "code",
   "execution_count": null,
   "id": "11e2b2ce",
   "metadata": {},
   "outputs": [],
   "source": [
    "logs_df.groupBy(\"host\").count().orderBy(desc(\"count\")).show(10, truncate=False)\n"
   ]
  },
  {
   "cell_type": "markdown",
   "id": "d6aa39dd",
   "metadata": {},
   "source": [
    "### d. Top 20 most frequent endpoints"
   ]
  },
  {
   "cell_type": "code",
   "execution_count": null,
   "id": "71127238",
   "metadata": {},
   "outputs": [],
   "source": [
    "logs_df.groupBy(\"endpoint\").count().orderBy(desc(\"count\")).show(20, truncate=False)\n"
   ]
  },
  {
   "cell_type": "markdown",
   "id": "62251a31",
   "metadata": {},
   "source": [
    "### e. Top 10 error (status 4xx/5xx) endpoints"
   ]
  },
  {
   "cell_type": "code",
   "execution_count": null,
   "id": "5a07d381",
   "metadata": {},
   "outputs": [],
   "source": [
    "logs_df.filter(col(\"status\") >= 400).groupBy(\"endpoint\").count().orderBy(desc(\"count\")).show(10, truncate=False)\n"
   ]
  },
  {
   "cell_type": "markdown",
   "id": "e25035d9",
   "metadata": {},
   "source": [
    "### f. Number of unique hosts in two months"
   ]
  },
  {
   "cell_type": "code",
   "execution_count": null,
   "id": "a2f7badd",
   "metadata": {},
   "outputs": [],
   "source": [
    "logs_df.select(\"host\").distinct().count()\n"
   ]
  },
  {
   "cell_type": "markdown",
   "id": "35d9046a",
   "metadata": {},
   "source": [
    "### g. Average number of requests per host per day"
   ]
  },
  {
   "cell_type": "code",
   "execution_count": null,
   "id": "465459c3",
   "metadata": {},
   "outputs": [],
   "source": [
    "logs_df = logs_df.withColumn(\"date\", to_date(\"timestamp\", \"dd/MMM/yyyy:HH:mm:ss\"))\n",
    "daily_requests = logs_df.groupBy(\"date\", \"host\").count()\n",
    "daily_avg = daily_requests.groupBy(\"date\").agg({\"count\": \"avg\"}).orderBy(\"date\")\n",
    "daily_avg.show(10)\n"
   ]
  },
  {
   "cell_type": "markdown",
   "id": "bd40edd4",
   "metadata": {},
   "source": [
    "### h. Top 20 endpoints that returned 404"
   ]
  },
  {
   "cell_type": "code",
   "execution_count": null,
   "id": "7249ee80",
   "metadata": {},
   "outputs": [],
   "source": [
    "logs_df.filter(col(\"status\") == 404).groupBy(\"endpoint\").count().orderBy(desc(\"count\")).show(20)\n"
   ]
  },
  {
   "cell_type": "markdown",
   "id": "b5dc51ca",
   "metadata": {},
   "source": [
    "### i. Top 20 hosts causing 404 errors"
   ]
  },
  {
   "cell_type": "code",
   "execution_count": null,
   "id": "4359bca2",
   "metadata": {},
   "outputs": [],
   "source": [
    "logs_df.filter(col(\"status\") == 404).groupBy(\"host\").count().orderBy(desc(\"count\")).show(20)\n"
   ]
  },
  {
   "cell_type": "markdown",
   "id": "fb9012e7",
   "metadata": {},
   "source": [
    "### j. Visualizing 404 errors per day"
   ]
  },
  {
   "cell_type": "code",
   "execution_count": null,
   "id": "8937ca93",
   "metadata": {},
   "outputs": [],
   "source": [
    "logs_404 = logs_df.filter(col(\"status\") == 404)\n",
    "errors_per_day = logs_404.groupBy(\"date\").count().orderBy(\"date\")\n",
    "errors_per_day.toPandas().plot(x='date', y='count', kind='line', figsize=(12,6), title='404 Errors per Day')\n"
   ]
  },
  {
   "cell_type": "markdown",
   "id": "36a6fd0e",
   "metadata": {},
   "source": [
    "### k. Top 3 days with most 404 errors"
   ]
  },
  {
   "cell_type": "code",
   "execution_count": null,
   "id": "9067770f",
   "metadata": {},
   "outputs": [],
   "source": [
    "errors_per_day.orderBy(desc(\"count\")).show(3)\n"
   ]
  },
  {
   "cell_type": "markdown",
   "id": "4bac4c29",
   "metadata": {},
   "source": [
    "### l. Visualizing hourly 404 errors"
   ]
  },
  {
   "cell_type": "code",
   "execution_count": null,
   "id": "2736d655",
   "metadata": {},
   "outputs": [],
   "source": [
    "logs_404 = logs_404.withColumn(\"hour\", hour(\"timestamp\"))\n",
    "errors_per_hour = logs_404.groupBy(\"hour\").count().orderBy(\"hour\")\n",
    "errors_per_hour.toPandas().plot(x='hour', y='count', kind='bar', figsize=(12,6), title='404 Errors by Hour')\n"
   ]
  },
  {
   "cell_type": "code",
   "execution_count": null,
   "id": "d8885384-ab82-4650-a1be-344046147c3a",
   "metadata": {},
   "outputs": [],
   "source": []
  },
  {
   "cell_type": "code",
   "execution_count": null,
   "id": "a0f3613b-9f01-4aa0-93cc-89a7f4d0d74f",
   "metadata": {},
   "outputs": [],
   "source": []
  },
  {
   "cell_type": "code",
   "execution_count": null,
   "id": "cb823057-c491-49ed-b810-8e841691c247",
   "metadata": {},
   "outputs": [],
   "source": []
  },
  {
   "cell_type": "code",
   "execution_count": null,
   "id": "d68cea93-e817-4c72-953a-85d1ee18b70c",
   "metadata": {},
   "outputs": [],
   "source": []
  }
 ],
 "metadata": {
  "kernelspec": {
   "display_name": "Python 3 (ipykernel)",
   "language": "python",
   "name": "python3"
  },
  "language_info": {
   "codemirror_mode": {
    "name": "ipython",
    "version": 3
   },
   "file_extension": ".py",
   "mimetype": "text/x-python",
   "name": "python",
   "nbconvert_exporter": "python",
   "pygments_lexer": "ipython3",
   "version": "3.13.3"
  }
 },
 "nbformat": 4,
 "nbformat_minor": 5
}
